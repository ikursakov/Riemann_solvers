{
 "cells": [
  {
   "cell_type": "markdown",
   "metadata": {},
   "source": [
    "В [ноутбуке, посвященном MUSCL](https://github.com/ikursakov/Riemann_solvers/blob/master/03_04_MUSCL.ipynb), описывается, как повысить порядок схемы для уравнения транспортных потоков. \n",
    "\n",
    "Нужно адаптировать эту процедуру к  любой схеме первого порядка, которую мы уже реализовали для уравнения Эйлера. Например, HLLC или Годунов.\n",
    "\n",
    "\n",
    "Еще конкретнее, нужно переписать имеющийся minmod под систему уравнений, и сделать предиктор-корректор"
   ]
  },
  {
   "cell_type": "code",
   "execution_count": 1,
   "metadata": {},
   "outputs": [],
   "source": [
    "%matplotlib inline\n",
    "import matplotlib\n",
    "from matplotlib import pyplot \n",
    "import numpy as np\n",
    "from matplotlib import rcParams\n",
    "rcParams['font.family'] = 'serif'\n",
    "rcParams['font.size'] = 16"
   ]
  },
  {
   "cell_type": "code",
   "execution_count": 2,
   "metadata": {},
   "outputs": [],
   "source": [
    "gamma = 1.4     #Гамма, она же каппа\n",
    "#Различные формулы из гаммы\n",
    "g_m_1_over_2g = (gamma-1)/2/gamma      #g1\n",
    "g_p_1_over_2g = (gamma+1)/2/gamma      #g2\n",
    "g_m_1_over_2g_inv = 1/g_m_1_over_2g    #g3\n",
    "g_m_1_over_2_inv = 2/(gamma-1)         #g4\n",
    "g_p_1_over_2_inv = 2/(gamma+1)         #g5\n",
    "g_m_1_over_g_p_1 = (gamma-1)/(gamma+1) #g6\n",
    "g_m_1_over_2 = (gamma-1)/2             #g7\n",
    "g_m_1 = gamma-1  \n",
    "\n",
    "tol = 1e-8"
   ]
  },
  {
   "cell_type": "code",
   "execution_count": 3,
   "metadata": {},
   "outputs": [],
   "source": [
    "def sound_speed(d,p):\n",
    "    return (gamma*(p/d))**0.5"
   ]
  },
  {
   "cell_type": "code",
   "execution_count": 4,
   "metadata": {},
   "outputs": [],
   "source": [
    "def calc_f(p,d_k,u_k,p_k):\n",
    "    c_k = sound_speed(d_k,p_k)\n",
    "    \n",
    "    if p > p_k:\n",
    "        A = g_p_1_over_2_inv/d_k\n",
    "        B = g_m_1_over_g_p_1*p_k\n",
    "        f = (p - p_k)*(A/(p + B))**0.5\n",
    "        f_deriv = (A/(p + B))**0.5*(1 - 0.5*(p - p_k)/(p + B))\n",
    "    else :\n",
    "        f = g_m_1_over_2_inv*c_k*((p/p_k)**g_m_1_over_2g - 1)\n",
    "        f_deriv = ((p/p_k)**(-g_p_1_over_2g))/(d_k*c_k)\n",
    "    \n",
    "    return f,f_deriv\n"
   ]
  },
  {
   "cell_type": "code",
   "execution_count": 5,
   "metadata": {},
   "outputs": [],
   "source": [
    "def guess_p(W_l,W_r,label):\n",
    "    c_l = sound_speed(W_l[0],W_l[2])\n",
    "    c_r = sound_speed(W_r[0],W_r[2])\n",
    "\n",
    "    \n",
    "    W_aver = 0.5*(W_l+W_r)\n",
    "    p_pv = W_aver[2] - 0.5*(W_r[1]-W_l[1])*W_aver[0]*0.5*(c_l+c_r)\n",
    "    p_0 = max(tol,p_pv)\n",
    "    \n",
    "    if label == 'TR':\n",
    "        return ((c_l + c_r - 0.5*g_m_1*(W_r[1] - W_l[1]))/\n",
    "                ((c_l/W_l[2]**g_m_1_over_2g) + (c_r/W_r[2]**g_m_1_over_2g) ))**g_m_1_over_2g_inv\n",
    "    \n",
    "    elif label == 'PV':\n",
    "\n",
    "        return p_0\n",
    "    \n",
    "    elif label == 'TS':\n",
    "        A_k = lambda x : g_p_1_over_2_inv/x\n",
    "        B_k = lambda x : g_m_1_over_g_p_1*x\n",
    "        p_ts = ((A_k(W_l[0])/(p_pv + B_k(W_l[2])))**0.5*W_l[2] + (A_k(W_r[0])/(p_pv + B_k(W_r[2])))**0.5*W_r[2] \\\n",
    "                - (W_r[1]-W_l[1])) /\\\n",
    "        ((A_k(W_l[0])/(p_pv + B_k(W_l[2])))**0.5 + (A_k(W_r[0])/(p_pv + B_k(W_r[2])))**0.5)  \n",
    "        return max(tol,p_ts)\n",
    "    else:\n",
    "        return W_aver[2]\n",
    "        \n",
    "        "
   ]
  },
  {
   "cell_type": "code",
   "execution_count": 6,
   "metadata": {
    "jupyter": {
     "outputs_hidden": false
    }
   },
   "outputs": [],
   "source": [
    "def init(case):\n",
    "    if case == 'sod':\n",
    "        W_l = np.array([1, 0.75, 1])\n",
    "        W_r = np.array([0.125, 0, 0.1])\n",
    "        t = 0.25\n",
    "    elif case == '123':\n",
    "        W_l = np.array([1, -2, 0.4])\n",
    "        W_r = np.array([1, 2, 0.4])\n",
    "        t = 0.15\n",
    "    elif case == 'left-woodward':\n",
    "        W_l = np.array([1, 0, 1000])\n",
    "        W_r = np.array([1, 0, 0.1])\n",
    "        \n",
    "        t = 0.012\n",
    "    else : print('Unknown case!')\n",
    "    return W_l, W_r, t"
   ]
  },
  {
   "cell_type": "code",
   "execution_count": 7,
   "metadata": {
    "jupyter": {
     "outputs_hidden": false
    }
   },
   "outputs": [],
   "source": [
    "W_l,W_r,_ = init('sod')"
   ]
  },
  {
   "cell_type": "code",
   "execution_count": 8,
   "metadata": {},
   "outputs": [],
   "source": [
    "def newton(p_init,W_l,W_r):\n",
    "    p_new = 1000\n",
    "    p_curr = p_init\n",
    "    cha =abs( 2*(p_new - p_curr)/(p_new + p_curr))\n",
    "    i= 0\n",
    "    while cha > tol:\n",
    "        \n",
    "        f_l = calc_f(p_curr,*W_l)\n",
    "        f_r = calc_f(p_curr,*W_r)\n",
    "        p_new = p_curr - (f_l[0]+f_r[0]+W_r[1]-W_l[1])/(f_l[1]+f_r[1])\n",
    "        \n",
    "        cha = abs(2*(p_new - p_curr)/(p_new + p_curr))\n",
    "        p_curr = p_new\n",
    "        i = i+1\n",
    "    u_new = 0.5*(W_l+W_r)[1] + 0.5*(calc_f(p_new,*W_r)[0] - calc_f(p_new,*W_l)[0])\n",
    "    return p_new,u_new"
   ]
  },
  {
   "cell_type": "code",
   "execution_count": 9,
   "metadata": {},
   "outputs": [],
   "source": [
    "def sample(W_l,c_l,W_r, c_r, p_m, u_m, s):\n",
    "    \"\"\"Returns d,u,p in sampled point according the shock and wave configuration\"\"\"\n",
    "    d_l, u_l, p_l = W_l\n",
    "    d_r, u_r, p_r = W_r\n",
    "    if s<= u_m:\n",
    "        #точка лежит слева от контактного разрыва\n",
    "        if p_m <= p_l: #слева -- волна разрежения\n",
    "            head_speed_l = u_l - c_l   #скорость головной характеристики волны разрежения\n",
    "            \n",
    "            if s<= head_speed_l: #точка лежит слева от волны -- все значения из левой ячейки\n",
    "                d = d_l\n",
    "                u = u_l\n",
    "                p = p_l\n",
    "            else:\n",
    "                c_m_l = c_l*(p_m/p_l)**g_m_1_over_2g #скорость звука справа от левой волны\n",
    "                tail_speed_l = u_m - c_m_l        #скорость замыкающей характеристики волны разрежения\n",
    "                \n",
    "                if s>=tail_speed_l:              #точка лежит между волной и контактным разрывом\n",
    "                    \n",
    "                    d = d_l*(p_m/p_l)**(1./gamma)\n",
    "                    u = u_m\n",
    "                    p = p_m\n",
    "                \n",
    "                else:                              #точка лежит в веере волны разрежения\n",
    "                    u = g_p_1_over_2_inv*(c_l+g_m_1_over_2*u_l+s)\n",
    "                    c = u - s\n",
    "                    d = d_l*(c/c_l)**g_m_1_over_2_inv\n",
    "                    p = p_l*(c/c_l)**g_m_1_over_2g_inv\n",
    "        \n",
    "        else:       #слева -- скачок \n",
    "            shock_ratio = p_m/p_l\n",
    "            s_l = u_l - c_l*(g_p_1_over_2g*shock_ratio + g_m_1_over_2g)**0.5 #скорость скачка\n",
    "            \n",
    "            if s<= s_l: #точка лежит слева от скачка -- все значения из левой ячейки\n",
    "                d = d_l\n",
    "                u = u_l\n",
    "                p = p_l\n",
    "            else:   #точка лежит между скачком и контактным разрывом\n",
    "                \n",
    "                d = d_l*(shock_ratio + (gamma-1)/(gamma+1))/((gamma-1)/(gamma+1)*shock_ratio +1.)\n",
    "                u = u_m\n",
    "                p = p_m\n",
    "    #----------------------------------------------------------------------------------------------------\n",
    "    else:              #точка лежит справа от контактного разрыва\n",
    "        \n",
    "        if p_m > p_r:   #справа -- скачок\n",
    "            shock_ratio = p_m/p_r\n",
    "            s_r = u_r + c_r*(g_p_1_over_2g*shock_ratio + g_m_1_over_2g)**0.5 #скорость скачка\n",
    "            \n",
    "            if s >= s_r: #точка лежит справа от скачка -- все значения из правой ячейки\n",
    "                d = d_r\n",
    "                u = u_r\n",
    "                p = p_r\n",
    "            else:   #точка лежит между скачком и контактным разрывом\n",
    "                \n",
    "                d = d_r*(shock_ratio + g_m_1_over_g_p_1)/(g_m_1_over_g_p_1*shock_ratio +1.)\n",
    "                u = u_m\n",
    "                p = p_m\n",
    "        else:           #справа -- волна\n",
    "            \n",
    "            head_speed_r = u_r + c_r   #скорость головной характеристики волны разрежения\n",
    "            \n",
    "            if s >= head_speed_r: #точка лежит справа от волны -- все значения из правой ячейки\n",
    "                d = d_r\n",
    "                u = u_r\n",
    "                p = p_r\n",
    "            else:\n",
    "                c_m_r = c_r*(p_m/p_r)**g_m_1_over_2g #скорость звука слева от правой волны\n",
    "                tail_speed_r = u_m + c_m_r           #скорость замыкающей характеристики волны разрежения\n",
    "                \n",
    "                if s<=tail_speed_r:              #точка лежит между контактным разрывом и волной\n",
    "                    \n",
    "                    d = d_r*(p_m/p_r)**(1/gamma)\n",
    "                    u = u_m\n",
    "                    p = p_m\n",
    "                \n",
    "                else:                              #точка лежит в веере волны разрежения\n",
    "                    u = g_p_1_over_2_inv*(-c_r+g_m_1_over_2*u_r+s)\n",
    "                    c = -u + s\n",
    "                    d = d_r*(c/c_r)**g_m_1_over_2_inv\n",
    "                    p = p_r*(c/c_r)**g_m_1_over_2g_inv\n",
    "                \n",
    "    return d,u,p"
   ]
  },
  {
   "cell_type": "code",
   "execution_count": 10,
   "metadata": {},
   "outputs": [],
   "source": [
    "def get_S_max(W_l,c_l,W_r, c_r, p_m, u_m):\n",
    "    d_l, u_l, p_l = W_l\n",
    "    d_r, u_r, p_r = W_r\n",
    "    S_l,S_r = 0,0\n",
    "    if p_m <= p_l: #слева -- волна разрежения\n",
    "        S_l = u_l - c_l\n",
    "    else :\n",
    "        shock_ratio = p_m/p_l\n",
    "        S_l = u_l - c_l*(g_p_1_over_2g*shock_ratio + g_m_1_over_2g)**0.5\n",
    "    if p_m > p_r:\n",
    "        shock_ratio = p_m/p_r\n",
    "        S_r = u_r + c_r*(g_p_1_over_2g*shock_ratio + g_m_1_over_2g)**0.5 \n",
    "    else:\n",
    "        S_r = u_r + c_r\n",
    "        \n",
    "    S_max = max(abs(S_l),abs(S_r))\n",
    "    return S_max"
   ]
  },
  {
   "cell_type": "code",
   "execution_count": 11,
   "metadata": {},
   "outputs": [],
   "source": [
    "N_points = 101\n",
    "x = np.linspace(0,1,N_points)\n",
    "decay_pos = 0.3\n",
    "W_correct= np.zeros((N_points,3))"
   ]
  },
  {
   "cell_type": "code",
   "execution_count": 12,
   "metadata": {
    "jupyter": {
     "outputs_hidden": false
    }
   },
   "outputs": [],
   "source": [
    "W_l,W_r,t = init('sod')\n",
    "p_init = guess_p(W_l,W_r,'TR')\n",
    "p_m, u_m = newton(p_init,W_l,W_r)\n"
   ]
  },
  {
   "cell_type": "code",
   "execution_count": 13,
   "metadata": {
    "jupyter": {
     "outputs_hidden": false
    }
   },
   "outputs": [],
   "source": [
    "c_l = sound_speed(W_l[0],W_l[2])\n",
    "c_r = sound_speed(W_r[0],W_r[2])\n",
    "for i,x_ in enumerate(x):\n",
    "    s = (x_ - decay_pos)/t\n",
    "    W_correct[i] = np.asarray(sample(W_l,c_l,W_r, c_r, p_m, u_m, s))"
   ]
  },
  {
   "cell_type": "code",
   "execution_count": 14,
   "metadata": {
    "jupyter": {
     "outputs_hidden": false
    }
   },
   "outputs": [
    {
     "data": {
      "image/png": "[encoded data removed]",
      "text/plain": [
       "<Figure size 1296x432 with 3 Axes>"
      ]
     },
     "metadata": {
      "needs_background": "light"
     },
     "output_type": "display_data"
    }
   ],
   "source": [
    "\n",
    "#pyplot.figure(figsize=(,6))\n",
    "fig,axs = pyplot.subplots(1,3,figsize=(18,6))\n",
    "for ax,W_,y_label in zip(axs,W_correct.T,(r'$\\rho$',r'$u$',r'$p$') ):\n",
    "    ax.plot(x,W_)\n",
    "    ax.set_ylabel(y_label)\n",
    "    ax.set_xlabel('x')\n",
    "    ax.grid()"
   ]
  },
  {
   "cell_type": "code",
   "execution_count": 15,
   "metadata": {
    "jupyter": {
     "outputs_hidden": false
    }
   },
   "outputs": [
    {
     "name": "stdout",
     "output_type": "stream",
     "text": [
      "Stored 'W_correct' (ndarray)\n"
     ]
    }
   ],
   "source": [
    "%store W_correct"
   ]
  },
  {
   "cell_type": "code",
   "execution_count": 16,
   "metadata": {},
   "outputs": [],
   "source": [
    "def U_to_W(U):\n",
    "    W = np.zeros_like(U)\n",
    "    W[0] = U[0]\n",
    "    W[1] = U[1]/U[0]\n",
    "    W[2] = g_m_1*(U[2] - 0.5*U[1]**2/U[0])\n",
    "    return W"
   ]
  },
  {
   "cell_type": "code",
   "execution_count": 17,
   "metadata": {
    "jupyter": {
     "outputs_hidden": false
    }
   },
   "outputs": [],
   "source": [
    "def W_to_U(W):\n",
    "    U = np.zeros_like(W)\n",
    "    U[0] = W[0]\n",
    "    U[1] = W[1]*W[0]\n",
    "    U[2] = 0.5*W[1]**2*W[0]+W[2]/ g_m_1\n",
    "    return U\n"
   ]
  },
  {
   "cell_type": "code",
   "execution_count": 18,
   "metadata": {},
   "outputs": [],
   "source": [
    "def flux(W):\n",
    "    F = np.zeros_like(W)\n",
    "    F[0] = W[1]*W[0]\n",
    "    F[1] = W[1]**2*W[0] + W[2]\n",
    "    F[2] = W[1]*(0.5*W[1]**2*W[0]+W[2]/ g_m_1 + W[2])\n",
    "    return F"
   ]
  },
  {
   "cell_type": "code",
   "execution_count": 19,
   "metadata": {},
   "outputs": [],
   "source": [
    "def minmod(e, dx):\n",
    "    \"\"\"\n",
    "    Computes the minmod approximation of the slope.\n",
    "    \n",
    "    Parameters\n",
    "    ----------\n",
    "    e : list or numpy.ndarray\n",
    "        The input values as a 1D array of floats.\n",
    "    dx : float\n",
    "        The grid-cell width.\n",
    "    \n",
    "    Returns\n",
    "    -------\n",
    "    sigma : numpy.ndarray\n",
    "        The minmod-approximated slope\n",
    "        as a 1D array of floats.\n",
    "    \"\"\"\n",
    "    sigma = np.zeros_like(e)\n",
    "    for i in range(1, len(e) - 1):\n",
    "        de_minus = (e[i] - e[i - 1]) / dx\n",
    "        de_plus = (e[i + 1] - e[i]) / dx\n",
    "        for j in range(3):\n",
    "            \n",
    "            if de_minus[j] > 0 and de_plus[j] > 0:\n",
    "                sigma[i,j] = min(de_minus[j], de_plus[j])\n",
    "            elif de_minus[j] < 0 and de_plus[j] < 0:\n",
    "                sigma[i,j] = max(de_minus[j], de_plus[j])\n",
    "            else:\n",
    "                sigma[i,j] = 0.0\n",
    "    return sigma"
   ]
  },
  {
   "cell_type": "markdown",
   "metadata": {},
   "source": [
    "def minmod(e, dx):\n",
    "    \"\"\"\n",
    "    Computes the minmod approximation of the slope.\n",
    "    \n",
    "    Parameters\n",
    "    ----------\n",
    "    e : list or numpy.ndarray\n",
    "        The input values as a 1D array of floats.\n",
    "    dx : float\n",
    "        The grid-cell width.\n",
    "    \n",
    "    Returns\n",
    "    -------\n",
    "    sigma : numpy.ndarray\n",
    "        The minmod-approximated slope\n",
    "        as a 1D array of floats.\n",
    "    \"\"\"\n",
    "    sigma = np.zeros_like(e)\n",
    "    de_minus = (e[1:-1] - e[: - 2]) / dx\n",
    "    de_plus = (e[2:] - e[1:-1]) / dx\n",
    "    \n",
    "    \n",
    "    for i in range(1, len(e) - 2):\n",
    "        for j in range(3):\n",
    "                    \n",
    "            if de_minus[i,j] > 0 and de_plus[i,j] > 0:\n",
    "                sigma[i,j] = min(de_minus[i,j], de_plus[i,j])\n",
    "            elif de_minus[i,j] < 0 and de_plus[i,j] < 0:\n",
    "                sigma[i,j] = max(de_minus[i,j], de_plus[i,j])\n",
    "            else:\n",
    "                sigma[i,j] = 0.0\n",
    "    return sigma"
   ]
  },
  {
   "cell_type": "code",
   "execution_count": 20,
   "metadata": {},
   "outputs": [],
   "source": [
    "\n",
    "dx = 1./(N_points - 1)\n",
    "sigma = 0.9\n",
    "\n",
    "\n",
    "\n",
    "W = np.zeros((N_points,3))\n",
    "fluxes = np.zeros((N_points - 1,3))\n",
    "U = np.zeros_like(W) "
   ]
  },
  {
   "cell_type": "code",
   "execution_count": 21,
   "metadata": {},
   "outputs": [],
   "source": [
    "W[np.where(x<decay_pos),:] = W_l\n",
    "W[np.where(x>=decay_pos),:] = W_r"
   ]
  },
  {
   "cell_type": "code",
   "execution_count": 24,
   "metadata": {
    "jupyter": {
     "outputs_hidden": false
    }
   },
   "outputs": [],
   "source": [
    "def compute_flux_god(W,dx):\n",
    "    big_values = np.zeros((N_points - 1,3))\n",
    "    speeds = np.zeros(N_points - 1)\n",
    "    grads = minmod(W,dx)\n",
    "    WL = (W + grads * dx / 2.0)[:-1]\n",
    "    WR = (W - grads * dx / 2.0)[1:]\n",
    "    for i in range(N_points-1):\n",
    "        p_init = guess_p(WL[i],WR[i],'TR')\n",
    "        p_m, u_m = newton(p_init,WL[i],WR[i])\n",
    "        c_l = sound_speed(WL[i][0],WL[i][2])\n",
    "        c_r = sound_speed(WR[i][0],WR[i][2])\n",
    "        s = 0\n",
    "        big_values[i] = np.asarray(sample(WL[i],c_l,WR[i], c_r, p_m, u_m, s))\n",
    "        speeds[i] = get_S_max(WL[i],c_l,WR[i], c_r, p_m, u_m)\n",
    "\n",
    "    fluxes = flux(big_values.T).T\n",
    "    return fluxes,max(speeds)"
   ]
  },
  {
   "cell_type": "code",
   "execution_count": 25,
   "metadata": {
    "jupyter": {
     "outputs_hidden": false
    }
   },
   "outputs": [],
   "source": [
    "t_ = 0\n",
    "#dt = 0.0002\n",
    "\n",
    "U_n = np.copy(U)\n",
    "U_n_star = np.copy(U)\n",
    "while t_<t:\n",
    "    U = W_to_U(W.T).T\n",
    "\n",
    "    fluxes,m_speed  = compute_flux_god(W,dx)\n",
    "    dt = sigma*dx/m_speed\n",
    "    U_n_star[1:-1,:] = U[1:-1,:] + dt/dx*(fluxes[:-1,:]-fluxes[1:,:]) \n",
    "    U_n_star[0,:] = U_n_star[1,:]\n",
    "    U_n_star[-1,:] = U_n_star[-2,:]\n",
    "    #print(U_n_star)\n",
    "    W_star = U_to_W(U_n_star.T).T\n",
    "    fluxes,_ = compute_flux_god(W_star,dx)\n",
    "    \n",
    "    U_n[1:-1,:] = 0.5*U[1:-1,:] + 0.5*(U_n_star[1:-1,:]+ dt/dx*(fluxes[:-1,:]-fluxes[1:,:]))\n",
    "    U_n[0,:] = U_n[1,:]\n",
    "    U_n[-1,:] = U_n[-2,:]\n",
    "    \n",
    "    W = U_to_W(U_n.T).T\n",
    "    t_=t_+dt"
   ]
  },
  {
   "cell_type": "code",
   "execution_count": 28,
   "metadata": {
    "jupyter": {
     "outputs_hidden": false
    }
   },
   "outputs": [
    {
     "name": "stdout",
     "output_type": "stream",
     "text": [
      "Stored 'W_g_2nd' (ndarray)\n"
     ]
    }
   ],
   "source": [
    "W_g_2nd = np.copy(W)\n",
    "%store W_g_2nd"
   ]
  },
  {
   "cell_type": "code",
   "execution_count": 29,
   "metadata": {
    "jupyter": {
     "outputs_hidden": false
    }
   },
   "outputs": [
    {
     "data": {
      "image/png": "[encoded data removed]",
      "text/plain": [
       "<Figure size 1296x432 with 3 Axes>"
      ]
     },
     "metadata": {
      "needs_background": "light"
     },
     "output_type": "display_data"
    }
   ],
   "source": [
    "fig,axs = pyplot.subplots(1,3,figsize=(18,6))\n",
    "for ax,W_,W_c,y_label in zip(axs,W_g_2nd.T,W_correct.T,(r'$\\rho$',r'$u$',r'$p$') ):\n",
    "    ax.plot(x,W_,'o',label='Godunov 2nd order')\n",
    "    ax.plot(x,W_c,label='Exact')\n",
    "    ax.set_ylabel(y_label)\n",
    "    ax.set_xlabel('x')\n",
    "    ax.set_ylim(-1.1*abs(min(W_c)),1.1*max(W_c))\n",
    "    ax.legend(loc='best')\n",
    "    ax.grid()\n",
    "    "
   ]
  }
 ],
 "metadata": {
  "anaconda-cloud": {},
  "kernelspec": {
   "display_name": "Python 3",
   "language": "python",
   "name": "python3"
  },
  "language_info": {
   "codemirror_mode": {
    "name": "ipython",
    "version": 3
   },
   "file_extension": ".py",
   "mimetype": "text/x-python",
   "name": "python",
   "nbconvert_exporter": "python",
   "pygments_lexer": "ipython3",
   "version": "3.7.3"
  }
 },
 "nbformat": 4,
 "nbformat_minor": 4
}
